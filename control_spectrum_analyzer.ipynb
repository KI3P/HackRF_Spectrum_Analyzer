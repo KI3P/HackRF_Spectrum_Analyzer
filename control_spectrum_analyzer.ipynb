{
 "cells": [
  {
   "cell_type": "code",
   "execution_count": null,
   "id": "b975db1f",
   "metadata": {},
   "outputs": [],
   "source": [
    "import zmq\n",
    "import numpy as np\n",
    "import time\n",
    "import matplotlib.pyplot as plt\n",
    "from xmlrpc.client import ServerProxy"
   ]
  },
  {
   "cell_type": "code",
   "execution_count": null,
   "id": "2c366e24",
   "metadata": {},
   "outputs": [],
   "source": [
    "# Launch the companion gnuradio flow hackrf_spectrum_analyzer.grc \n",
    "# or hackrf_spectrum_analyzer-high_resolution.grc before running this notebook"
   ]
  },
  {
   "cell_type": "code",
   "execution_count": null,
   "id": "7bf298a2",
   "metadata": {},
   "outputs": [],
   "source": [
    "xmlrpc_control_client = ServerProxy('http://'+'localhost'+':18080')\n",
    "\n",
    "xmlrpc_control_client.set_f_tx_MHz(152)"
   ]
  },
  {
   "cell_type": "code",
   "execution_count": null,
   "id": "67726ec5",
   "metadata": {},
   "outputs": [],
   "source": [
    "def get_spectrum(ip = '192.168.86.33', port = 55555):\n",
    "    # Retrieve the current frequency spectrum from the gnuradio flow\n",
    "    context = zmq.Context()\n",
    "    socket = context.socket(zmq.SUB)\n",
    "    socket.connect(\"tcp://%s:%d\"%(ip,port)) # connect, not bind, the PUB will bind,>\n",
    "    socket.setsockopt(zmq.SUBSCRIBE, b'') # subscribe to topic of all (needed or el>\n",
    "    fft_len = xmlrpc_control_client.get_fft_len()\n",
    "    freq = xmlrpc_control_client.get_freq()\n",
    "    samp_rate = xmlrpc_control_client.get_samp_rate()\n",
    "    fstart = (freq-samp_rate/2)\n",
    "    fstep = (samp_rate/fft_len)\n",
    "    f_Hz = np.arange(fft_len)*fstep+fstart\n",
    "    while True:\n",
    "        if socket.poll(10) != 0: # check if there is a message on the socket\n",
    "            msg = socket.recv() # grab the message\n",
    "            data = np.frombuffer(msg, dtype=np.float32, count=-1)\n",
    "            if len(data) == fft_len:\n",
    "                socket.close()\n",
    "                break\n",
    "        else:\n",
    "            time.sleep(0.1) # wait 100ms and try again\n",
    "    return f_Hz, data"
   ]
  },
  {
   "cell_type": "code",
   "execution_count": null,
   "id": "7e1ce1a3",
   "metadata": {},
   "outputs": [],
   "source": [
    "f_Hz,data = get_spectrum()"
   ]
  },
  {
   "cell_type": "code",
   "execution_count": null,
   "id": "8e17e327",
   "metadata": {},
   "outputs": [],
   "source": [
    "plt.figure()\n",
    "plt.plot(f_Hz/1e6,data)\n",
    "plt.xlabel(\"Frequency [MHz]\")\n",
    "plt.ylabel(\"Power\")"
   ]
  },
  {
   "cell_type": "code",
   "execution_count": null,
   "id": "e7d6501a",
   "metadata": {},
   "outputs": [],
   "source": []
  }
 ],
 "metadata": {
  "kernelspec": {
   "display_name": "Python 3 (ipykernel)",
   "language": "python",
   "name": "python3"
  },
  "language_info": {
   "codemirror_mode": {
    "name": "ipython",
    "version": 3
   },
   "file_extension": ".py",
   "mimetype": "text/x-python",
   "name": "python",
   "nbconvert_exporter": "python",
   "pygments_lexer": "ipython3",
   "version": "3.10.12"
  }
 },
 "nbformat": 4,
 "nbformat_minor": 5
}
